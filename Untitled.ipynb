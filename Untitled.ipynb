{
 "cells": [
  {
   "cell_type": "code",
   "execution_count": 6,
   "metadata": {},
   "outputs": [
    {
     "name": "stdout",
     "output_type": "stream",
     "text": [
      "      FIPS     Admin2  Province_State Country_Region          Last_Update  \\\n",
      "0  45001.0  Abbeville  South Carolina             US  2020-03-27 22:14:55   \n",
      "1  22001.0     Acadia       Louisiana             US  2020-03-27 22:14:55   \n",
      "2  51001.0   Accomack        Virginia             US  2020-03-27 22:14:55   \n",
      "3  16001.0        Ada           Idaho             US  2020-03-27 22:14:55   \n",
      "4  19001.0      Adair            Iowa             US  2020-03-27 22:14:55   \n",
      "\n",
      "         Lat       Long_  Confirmed  Deaths  Recovered  Active  \\\n",
      "0  34.223334  -82.461707          4       0          0       0   \n",
      "1  30.295065  -92.414197          8       1          0       0   \n",
      "2  37.767072  -75.632346          2       0          0       0   \n",
      "3  43.452658 -116.241552         54       0          0       0   \n",
      "4  41.330756  -94.471059          1       0          0       0   \n",
      "\n",
      "                    Combined_Key  \n",
      "0  Abbeville, South Carolina, US  \n",
      "1          Acadia, Louisiana, US  \n",
      "2         Accomack, Virginia, US  \n",
      "3                 Ada, Idaho, US  \n",
      "4                Adair, Iowa, US  \n"
     ]
    }
   ],
   "source": [
    "import pandas as pd\n",
    "url = 'https://raw.githubusercontent.com/CSSEGISandData/COVID-19/master/csse_covid_19_data/csse_covid_19_daily_reports/03-27-2020.csv'\n",
    "df = pd.read_csv(url, error_bad_lines=False)\n",
    "\n",
    "print (df.head(5))"
   ]
  },
  {
   "cell_type": "code",
   "execution_count": null,
   "metadata": {},
   "outputs": [],
   "source": []
  }
 ],
 "metadata": {
  "kernelspec": {
   "display_name": "Python 3",
   "language": "python",
   "name": "python3"
  },
  "language_info": {
   "codemirror_mode": {
    "name": "ipython",
    "version": 3
   },
   "file_extension": ".py",
   "mimetype": "text/x-python",
   "name": "python",
   "nbconvert_exporter": "python",
   "pygments_lexer": "ipython3",
   "version": "3.7.6"
  }
 },
 "nbformat": 4,
 "nbformat_minor": 4
}
